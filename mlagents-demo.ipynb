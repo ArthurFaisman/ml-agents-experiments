{
 "cells": [
  {
   "cell_type": "markdown",
   "metadata": {},
   "source": [
    "NOTE: this notebook has been directly copied and pilfered from here: https://colab.research.google.com/drive/1Qg6E5kmf9n4G8rc5lXHIM_cQzMUFGH-g"
   ]
  },
  {
   "cell_type": "markdown",
   "metadata": {
    "colab_type": "text",
    "id": "pbVXrmEsLXDt"
   },
   "source": [
    "# ML-Agents Open a UnityEnvironment\n",
    "<img src=\"https://github.com/Unity-Technologies/ml-agents/blob/release_1/docs/images/image-banner.png?raw=true\" align=\"middle\" width=\"435\"/>"
   ]
  },
  {
   "cell_type": "markdown",
   "metadata": {
    "colab_type": "text",
    "id": "WNKTwHU3d2-l"
   },
   "source": [
    "## Setup"
   ]
  },
  {
   "cell_type": "markdown",
   "metadata": {
    "colab_type": "text",
    "id": "Pzj7wgapAcDs"
   },
   "source": [
    "### Installing ml-agents"
   ]
  },
  {
   "cell_type": "code",
   "execution_count": 1,
   "metadata": {
    "colab": {},
    "colab_type": "code",
    "id": "N8yfQqkbebQ5"
   },
   "outputs": [],
   "source": [
    "import mlagents"
   ]
  },
  {
   "cell_type": "markdown",
   "metadata": {
    "colab_type": "text",
    "id": "_u74YhSmW6gD"
   },
   "source": [
    "## Run the Environment"
   ]
  },
  {
   "cell_type": "code",
   "execution_count": 2,
   "metadata": {
    "colab": {},
    "colab_type": "code",
    "id": "DpZPbRvRuLZv"
   },
   "outputs": [],
   "source": [
    "#@title Select Environment { display-mode: \"form\" }\n",
    "env_id = \"FoodCollector\" #@param ['Basic', '3DBall', '3DBallHard', 'GridWorld', 'Hallway', 'VisualHallway', 'CrawlerDynamicTarget', 'CrawlerStaticTarget', 'Bouncer', 'SoccerTwos', 'PushBlock', 'VisualPushBlock', 'WallJump', 'Tennis', 'Reacher', 'Pyramids', 'VisualPyramids', 'Walker', 'FoodCollector', 'VisualFoodCollector', 'StrikersVsGoalie', 'WormStaticTarget', 'WormDynamicTarget']\n"
   ]
  },
  {
   "cell_type": "markdown",
   "metadata": {
    "colab_type": "text",
    "id": "P-r_cB2rqp5x"
   },
   "source": [
    "### Start Environment from the registry"
   ]
  },
  {
   "cell_type": "code",
   "execution_count": 3,
   "metadata": {
    "colab": {},
    "colab_type": "code",
    "id": "YSf-WhxbqtLw"
   },
   "outputs": [
    {
     "name": "stdout",
     "output_type": "stream",
     "text": [
      "  Downloading FoodCollector : |████████████████████| 100% \n",
      "  Extracting  FoodCollector : |████████████████████| 100% \n",
      "  Cleaning up FoodCollector : |████████████████████| 100% \n"
     ]
    }
   ],
   "source": [
    "# -----------------\n",
    "# This code is used to close an env that might not have been closed before\n",
    "try:\n",
    "  env.close()\n",
    "except:\n",
    "  pass\n",
    "# -----------------\n",
    "\n",
    "from mlagents_envs.registry import default_registry\n",
    "\n",
    "env = default_registry[env_id].make()"
   ]
  },
  {
   "cell_type": "markdown",
   "metadata": {
    "colab_type": "text",
    "id": "h1lIx3_l24OP"
   },
   "source": [
    "### Reset the environment\n",
    "To reset the environment, simply call `env.reset()`. This method takes no argument and returns nothing but will send a signal to the simulation to reset."
   ]
  },
  {
   "cell_type": "code",
   "execution_count": 4,
   "metadata": {
    "colab": {},
    "colab_type": "code",
    "id": "dhtl0mpeqxYi"
   },
   "outputs": [],
   "source": [
    "env.reset()"
   ]
  },
  {
   "cell_type": "markdown",
   "metadata": {
    "colab_type": "text",
    "id": "k1rwnVq2qyoO"
   },
   "source": [
    "### Behavior Specs\n"
   ]
  },
  {
   "cell_type": "markdown",
   "metadata": {
    "colab_type": "text",
    "id": "TrD0rSv92T8A"
   },
   "source": [
    "#### Get the Behavior Specs from the Environment"
   ]
  },
  {
   "cell_type": "code",
   "execution_count": 5,
   "metadata": {
    "colab": {},
    "colab_type": "code",
    "id": "a7KatdThq7OV"
   },
   "outputs": [
    {
     "name": "stdout",
     "output_type": "stream",
     "text": [
      "Name of the behavior : FoodCollector?team=0\n"
     ]
    }
   ],
   "source": [
    "# We will only consider the first Behavior\n",
    "behavior_name = list(env.behavior_specs)[0] \n",
    "print(f\"Name of the behavior : {behavior_name}\")\n",
    "spec = env.behavior_specs[behavior_name]"
   ]
  },
  {
   "cell_type": "markdown",
   "metadata": {
    "colab_type": "text",
    "id": "m1L8DHADrAbe"
   },
   "source": [
    "#### Get the Observation Space from the Behavior Specs"
   ]
  },
  {
   "cell_type": "code",
   "execution_count": 6,
   "metadata": {
    "colab": {},
    "colab_type": "code",
    "id": "PqDTV5mSrJF5"
   },
   "outputs": [
    {
     "name": "stdout",
     "output_type": "stream",
     "text": [
      "Number of observations :  2\n",
      "Is there a visual observation ? False\n"
     ]
    },
    {
     "data": {
      "text/plain": [
       "[(49,), (4,)]"
      ]
     },
     "execution_count": 6,
     "metadata": {},
     "output_type": "execute_result"
    }
   ],
   "source": [
    "# Examine the number of observations per Agent\n",
    "print(\"Number of observations : \", len(spec.observation_shapes))\n",
    "\n",
    "# Is there a visual observation ?\n",
    "# Visual observation have 3 dimensions: Height, Width and number of channels\n",
    "vis_obs = any(len(shape) == 3 for shape in spec.observation_shapes)\n",
    "print(\"Is there a visual observation ?\", vis_obs)\n",
    "spec.observation_shapes"
   ]
  },
  {
   "cell_type": "markdown",
   "metadata": {
    "colab_type": "text",
    "id": "yVLN_wbG1G5-"
   },
   "source": [
    "#### Get the Action Space from the Behavior Specs"
   ]
  },
  {
   "cell_type": "code",
   "execution_count": 7,
   "metadata": {
    "colab": {},
    "colab_type": "code",
    "id": "M9zk1-az1L-G"
   },
   "outputs": [
    {
     "name": "stdout",
     "output_type": "stream",
     "text": [
      "The action is discrete\n",
      "There are 4 action(s)\n",
      "Action number 0 has 3 different options\n",
      "Action number 1 has 3 different options\n",
      "Action number 2 has 3 different options\n",
      "Action number 3 has 2 different options\n"
     ]
    }
   ],
   "source": [
    "# Is the Action continuous or multi-discrete ?\n",
    "if spec.is_action_continuous():\n",
    "  print(\"The action is continuous\")\n",
    "if spec.is_action_discrete():\n",
    "  print(\"The action is discrete\")\n",
    "\n",
    "# How many actions are possible ?\n",
    "print(f\"There are {spec.action_size} action(s)\")\n",
    "\n",
    "# For discrete actions only : How many different options does each action has ?\n",
    "if spec.is_action_discrete():\n",
    "  for action, branch_size in enumerate(spec.discrete_action_branches):\n",
    "    print(f\"Action number {action} has {branch_size} different options\")\n",
    "    \n"
   ]
  },
  {
   "cell_type": "markdown",
   "metadata": {
    "colab_type": "text",
    "id": "3cX07SGw22Lm"
   },
   "source": [
    "### Steping the environment"
   ]
  },
  {
   "cell_type": "markdown",
   "metadata": {
    "colab_type": "text",
    "id": "xO5p0s0prfsQ"
   },
   "source": [
    "#### Get the steps from the Environment\n",
    "You can do this with the `env.get_steps(behavior_name)` method. If there are multiple behaviors in the Environment, you can call this method with each of the behavior's names.\n",
    "_Note_ This will not move the simulation forward."
   ]
  },
  {
   "cell_type": "code",
   "execution_count": 8,
   "metadata": {
    "colab": {},
    "colab_type": "code",
    "id": "ePZtcHXUrjyf"
   },
   "outputs": [
    {
     "name": "stdout",
     "output_type": "stream",
     "text": [
      "DecisionStep(obs=[array([0.        , 0.        , 1.        , 0.        , 0.        ,\n",
      "       0.        , 0.8472133 , 0.        , 0.        , 1.        ,\n",
      "       0.        , 0.        , 0.        , 0.93692917, 0.        ,\n",
      "       0.        , 1.        , 0.        , 0.        , 0.        ,\n",
      "       0.60939825, 0.        , 0.        , 1.        , 0.        ,\n",
      "       0.        , 0.        , 0.9036788 , 0.        , 0.        ,\n",
      "       1.        , 0.        , 0.        , 0.        , 0.54550105,\n",
      "       0.        , 0.        , 0.        , 1.        , 0.        ,\n",
      "       0.        , 0.5921895 , 0.        , 0.        , 1.        ,\n",
      "       0.        , 0.        , 0.        , 0.5795279 ], dtype=float32), array([0., 0., 0., 0.], dtype=float32)], reward=0.0, agent_id=0, action_mask=[array([False, False, False]), array([False, False, False]), array([False, False, False]), array([False, False])])\n",
      "<mlagents_envs.base_env.TerminalSteps object at 0x7f9d90828810>\n"
     ]
    }
   ],
   "source": [
    "decision_steps, terminal_steps = env.get_steps(behavior_name)\n",
    "print(decision_steps[0])\n",
    "print(terminal_steps)"
   ]
  },
  {
   "cell_type": "markdown",
   "metadata": {
    "colab_type": "text",
    "id": "f-Oj3ix530mx"
   },
   "source": [
    "#### Set actions for each behavior\n",
    "You can set the actions for the Agents of a Behavior by calling `env.set_actions()` you will need to specify the behavior name and pass a tensor of dimension 2. The first dimension of the action must be equal to the number of Agents that requested a decision during the step."
   ]
  },
  {
   "cell_type": "code",
   "execution_count": 9,
   "metadata": {
    "colab": {},
    "colab_type": "code",
    "id": "KB-nxfbw337g"
   },
   "outputs": [
    {
     "name": "stdout",
     "output_type": "stream",
     "text": [
      "[[0 0 0 0]\n",
      " [0 0 0 0]\n",
      " [0 0 0 0]\n",
      " [0 0 0 0]\n",
      " [0 0 0 0]\n",
      " [0 0 0 0]\n",
      " [0 0 0 0]\n",
      " [0 0 0 0]\n",
      " [0 0 0 0]\n",
      " [0 0 0 0]\n",
      " [0 0 0 0]\n",
      " [0 0 0 0]\n",
      " [0 0 0 0]\n",
      " [0 0 0 0]\n",
      " [0 0 0 0]\n",
      " [0 0 0 0]\n",
      " [0 0 0 0]\n",
      " [0 0 0 0]\n",
      " [0 0 0 0]\n",
      " [0 0 0 0]]\n"
     ]
    }
   ],
   "source": [
    "empty_action = spec.create_empty_action(len(decision_steps))\n",
    "env.set_actions(behavior_name, empty_action)\n",
    "print(empty_action)"
   ]
  },
  {
   "cell_type": "markdown",
   "metadata": {
    "colab_type": "text",
    "id": "MQCybRs84cmq"
   },
   "source": [
    "#### Move the simulation forward\n",
    "Call `env.step()` to move the simulation forward. The simulation will progress until an Agent requestes a decision or terminates."
   ]
  },
  {
   "cell_type": "code",
   "execution_count": 10,
   "metadata": {
    "colab": {},
    "colab_type": "code",
    "id": "nl3K40ZR4bh2"
   },
   "outputs": [],
   "source": [
    "env.step()"
   ]
  },
  {
   "cell_type": "markdown",
   "metadata": {
    "colab_type": "text",
    "id": "i9gdextn2vJy"
   },
   "source": [
    "### Observations"
   ]
  },
  {
   "cell_type": "markdown",
   "metadata": {
    "colab_type": "text",
    "id": "iAMqnnddr8Xo"
   },
   "source": [
    "#### Show the observations for one of the Agents\n",
    "`DecisionSteps.obs` is a tuple containing all of the observations for all of the Agents with the provided Behavior name.\n",
    "Each value in the tuple is an observation tensor containing the observation data for all of the agents."
   ]
  },
  {
   "cell_type": "code",
   "execution_count": 11,
   "metadata": {
    "colab": {},
    "colab_type": "code",
    "id": "OJpta61TsBiO"
   },
   "outputs": [
    {
     "name": "stdout",
     "output_type": "stream",
     "text": [
      "First vector observations :  [0.         0.         1.         0.         0.         0.\n",
      " 0.8472133  0.         0.         1.         0.         0.\n",
      " 0.         0.93692917 0.         0.         1.         0.\n",
      " 0.         0.         0.60939825 0.         0.         1.\n",
      " 0.         0.         0.         0.9036788  0.         0.\n",
      " 1.         0.         0.         0.         0.54550105 0.\n",
      " 0.         0.         1.         0.         0.         0.5921895\n",
      " 0.         0.         1.         0.         0.         0.\n",
      " 0.5795279 ]\n",
      "First vector observations :  [0. 0. 0. 0.]\n"
     ]
    }
   ],
   "source": [
    "import matplotlib.pyplot as plt\n",
    "%matplotlib inline\n",
    "\n",
    "for index, shape in enumerate(spec.observation_shapes):\n",
    "  if len(shape) == 3:\n",
    "    print(\"Here is the first visual observation\")\n",
    "    plt.imshow(decision_steps.obs[index][0,:,:,:])\n",
    "    plt.show()\n",
    "\n",
    "for index, shape in enumerate(spec.observation_shapes):\n",
    "  if len(shape) == 1:\n",
    "    print(\"First vector observations : \", decision_steps.obs[index][0,:])"
   ]
  },
  {
   "cell_type": "markdown",
   "metadata": {
    "colab_type": "text",
    "id": "y60u21sys8kA"
   },
   "source": [
    "### Run the Environment for a few episodes"
   ]
  },
  {
   "cell_type": "code",
   "execution_count": null,
   "metadata": {
    "colab": {},
    "colab_type": "code",
    "id": "a2uQUsoMtIUK"
   },
   "outputs": [
    {
     "name": "stderr",
     "output_type": "stream",
     "text": [
      "Unknown side channel data received. Channel type: a1d8f7b7-cec8-50f9-b78b-d3e165a78520.\n",
      "Unknown side channel data received. Channel type: a1d8f7b7-cec8-50f9-b78b-d3e165a78520.\n",
      "Unknown side channel data received. Channel type: a1d8f7b7-cec8-50f9-b78b-d3e165a78520.\n",
      "Unknown side channel data received. Channel type: a1d8f7b7-cec8-50f9-b78b-d3e165a78520.\n",
      "Unknown side channel data received. Channel type: a1d8f7b7-cec8-50f9-b78b-d3e165a78520.\n",
      "Unknown side channel data received. Channel type: a1d8f7b7-cec8-50f9-b78b-d3e165a78520.\n",
      "Unknown side channel data received. Channel type: a1d8f7b7-cec8-50f9-b78b-d3e165a78520.\n",
      "Unknown side channel data received. Channel type: a1d8f7b7-cec8-50f9-b78b-d3e165a78520.\n",
      "Unknown side channel data received. Channel type: a1d8f7b7-cec8-50f9-b78b-d3e165a78520.\n",
      "Unknown side channel data received. Channel type: a1d8f7b7-cec8-50f9-b78b-d3e165a78520.\n",
      "Unknown side channel data received. Channel type: a1d8f7b7-cec8-50f9-b78b-d3e165a78520.\n",
      "Unknown side channel data received. Channel type: a1d8f7b7-cec8-50f9-b78b-d3e165a78520.\n",
      "Unknown side channel data received. Channel type: a1d8f7b7-cec8-50f9-b78b-d3e165a78520.\n",
      "Unknown side channel data received. Channel type: a1d8f7b7-cec8-50f9-b78b-d3e165a78520.\n",
      "Unknown side channel data received. Channel type: a1d8f7b7-cec8-50f9-b78b-d3e165a78520.\n",
      "Unknown side channel data received. Channel type: a1d8f7b7-cec8-50f9-b78b-d3e165a78520.\n",
      "Unknown side channel data received. Channel type: a1d8f7b7-cec8-50f9-b78b-d3e165a78520.\n",
      "Unknown side channel data received. Channel type: a1d8f7b7-cec8-50f9-b78b-d3e165a78520.\n",
      "Unknown side channel data received. Channel type: a1d8f7b7-cec8-50f9-b78b-d3e165a78520.\n",
      "Unknown side channel data received. Channel type: a1d8f7b7-cec8-50f9-b78b-d3e165a78520.\n",
      "Unknown side channel data received. Channel type: a1d8f7b7-cec8-50f9-b78b-d3e165a78520.\n",
      "Unknown side channel data received. Channel type: a1d8f7b7-cec8-50f9-b78b-d3e165a78520.\n",
      "Unknown side channel data received. Channel type: a1d8f7b7-cec8-50f9-b78b-d3e165a78520.\n",
      "Unknown side channel data received. Channel type: a1d8f7b7-cec8-50f9-b78b-d3e165a78520.\n",
      "Unknown side channel data received. Channel type: a1d8f7b7-cec8-50f9-b78b-d3e165a78520.\n",
      "Unknown side channel data received. Channel type: a1d8f7b7-cec8-50f9-b78b-d3e165a78520.\n",
      "Unknown side channel data received. Channel type: a1d8f7b7-cec8-50f9-b78b-d3e165a78520.\n",
      "Unknown side channel data received. Channel type: a1d8f7b7-cec8-50f9-b78b-d3e165a78520.\n",
      "Unknown side channel data received. Channel type: a1d8f7b7-cec8-50f9-b78b-d3e165a78520.\n",
      "Unknown side channel data received. Channel type: a1d8f7b7-cec8-50f9-b78b-d3e165a78520.\n",
      "Unknown side channel data received. Channel type: a1d8f7b7-cec8-50f9-b78b-d3e165a78520.\n",
      "Unknown side channel data received. Channel type: a1d8f7b7-cec8-50f9-b78b-d3e165a78520.\n",
      "Unknown side channel data received. Channel type: a1d8f7b7-cec8-50f9-b78b-d3e165a78520.\n",
      "Unknown side channel data received. Channel type: a1d8f7b7-cec8-50f9-b78b-d3e165a78520.\n",
      "Unknown side channel data received. Channel type: a1d8f7b7-cec8-50f9-b78b-d3e165a78520.\n",
      "Unknown side channel data received. Channel type: a1d8f7b7-cec8-50f9-b78b-d3e165a78520.\n",
      "Unknown side channel data received. Channel type: a1d8f7b7-cec8-50f9-b78b-d3e165a78520.\n",
      "Unknown side channel data received. Channel type: a1d8f7b7-cec8-50f9-b78b-d3e165a78520.\n",
      "Unknown side channel data received. Channel type: a1d8f7b7-cec8-50f9-b78b-d3e165a78520.\n",
      "Unknown side channel data received. Channel type: a1d8f7b7-cec8-50f9-b78b-d3e165a78520.\n",
      "Unknown side channel data received. Channel type: a1d8f7b7-cec8-50f9-b78b-d3e165a78520.\n",
      "Unknown side channel data received. Channel type: a1d8f7b7-cec8-50f9-b78b-d3e165a78520.\n",
      "Unknown side channel data received. Channel type: a1d8f7b7-cec8-50f9-b78b-d3e165a78520.\n",
      "Unknown side channel data received. Channel type: a1d8f7b7-cec8-50f9-b78b-d3e165a78520.\n",
      "Unknown side channel data received. Channel type: a1d8f7b7-cec8-50f9-b78b-d3e165a78520.\n",
      "Unknown side channel data received. Channel type: a1d8f7b7-cec8-50f9-b78b-d3e165a78520.\n",
      "Unknown side channel data received. Channel type: a1d8f7b7-cec8-50f9-b78b-d3e165a78520.\n",
      "Unknown side channel data received. Channel type: a1d8f7b7-cec8-50f9-b78b-d3e165a78520.\n",
      "Unknown side channel data received. Channel type: a1d8f7b7-cec8-50f9-b78b-d3e165a78520.\n",
      "Unknown side channel data received. Channel type: a1d8f7b7-cec8-50f9-b78b-d3e165a78520.\n",
      "Unknown side channel data received. Channel type: a1d8f7b7-cec8-50f9-b78b-d3e165a78520.\n",
      "Unknown side channel data received. Channel type: a1d8f7b7-cec8-50f9-b78b-d3e165a78520.\n",
      "Unknown side channel data received. Channel type: a1d8f7b7-cec8-50f9-b78b-d3e165a78520.\n",
      "Unknown side channel data received. Channel type: a1d8f7b7-cec8-50f9-b78b-d3e165a78520.\n",
      "Unknown side channel data received. Channel type: a1d8f7b7-cec8-50f9-b78b-d3e165a78520.\n",
      "Unknown side channel data received. Channel type: a1d8f7b7-cec8-50f9-b78b-d3e165a78520.\n",
      "Unknown side channel data received. Channel type: a1d8f7b7-cec8-50f9-b78b-d3e165a78520.\n",
      "Unknown side channel data received. Channel type: a1d8f7b7-cec8-50f9-b78b-d3e165a78520.\n",
      "Unknown side channel data received. Channel type: a1d8f7b7-cec8-50f9-b78b-d3e165a78520.\n"
     ]
    },
    {
     "name": "stdout",
     "output_type": "stream",
     "text": [
      "Total rewards for episode 0 is 0.0\n"
     ]
    },
    {
     "name": "stderr",
     "output_type": "stream",
     "text": [
      "Unknown side channel data received. Channel type: a1d8f7b7-cec8-50f9-b78b-d3e165a78520.\n",
      "Unknown side channel data received. Channel type: a1d8f7b7-cec8-50f9-b78b-d3e165a78520.\n",
      "Unknown side channel data received. Channel type: a1d8f7b7-cec8-50f9-b78b-d3e165a78520.\n",
      "Unknown side channel data received. Channel type: a1d8f7b7-cec8-50f9-b78b-d3e165a78520.\n",
      "Unknown side channel data received. Channel type: a1d8f7b7-cec8-50f9-b78b-d3e165a78520.\n",
      "Unknown side channel data received. Channel type: a1d8f7b7-cec8-50f9-b78b-d3e165a78520.\n",
      "Unknown side channel data received. Channel type: a1d8f7b7-cec8-50f9-b78b-d3e165a78520.\n",
      "Unknown side channel data received. Channel type: a1d8f7b7-cec8-50f9-b78b-d3e165a78520.\n",
      "Unknown side channel data received. Channel type: a1d8f7b7-cec8-50f9-b78b-d3e165a78520.\n",
      "Unknown side channel data received. Channel type: a1d8f7b7-cec8-50f9-b78b-d3e165a78520.\n",
      "Unknown side channel data received. Channel type: a1d8f7b7-cec8-50f9-b78b-d3e165a78520.\n",
      "Unknown side channel data received. Channel type: a1d8f7b7-cec8-50f9-b78b-d3e165a78520.\n",
      "Unknown side channel data received. Channel type: a1d8f7b7-cec8-50f9-b78b-d3e165a78520.\n",
      "Unknown side channel data received. Channel type: a1d8f7b7-cec8-50f9-b78b-d3e165a78520.\n",
      "Unknown side channel data received. Channel type: a1d8f7b7-cec8-50f9-b78b-d3e165a78520.\n",
      "Unknown side channel data received. Channel type: a1d8f7b7-cec8-50f9-b78b-d3e165a78520.\n",
      "Unknown side channel data received. Channel type: a1d8f7b7-cec8-50f9-b78b-d3e165a78520.\n",
      "Unknown side channel data received. Channel type: a1d8f7b7-cec8-50f9-b78b-d3e165a78520.\n",
      "Unknown side channel data received. Channel type: a1d8f7b7-cec8-50f9-b78b-d3e165a78520.\n",
      "Unknown side channel data received. Channel type: a1d8f7b7-cec8-50f9-b78b-d3e165a78520.\n",
      "Unknown side channel data received. Channel type: a1d8f7b7-cec8-50f9-b78b-d3e165a78520.\n",
      "Unknown side channel data received. Channel type: a1d8f7b7-cec8-50f9-b78b-d3e165a78520.\n",
      "Unknown side channel data received. Channel type: a1d8f7b7-cec8-50f9-b78b-d3e165a78520.\n",
      "Unknown side channel data received. Channel type: a1d8f7b7-cec8-50f9-b78b-d3e165a78520.\n",
      "Unknown side channel data received. Channel type: a1d8f7b7-cec8-50f9-b78b-d3e165a78520.\n",
      "Unknown side channel data received. Channel type: a1d8f7b7-cec8-50f9-b78b-d3e165a78520.\n",
      "Unknown side channel data received. Channel type: a1d8f7b7-cec8-50f9-b78b-d3e165a78520.\n",
      "Unknown side channel data received. Channel type: a1d8f7b7-cec8-50f9-b78b-d3e165a78520.\n",
      "Unknown side channel data received. Channel type: a1d8f7b7-cec8-50f9-b78b-d3e165a78520.\n",
      "Unknown side channel data received. Channel type: a1d8f7b7-cec8-50f9-b78b-d3e165a78520.\n",
      "Unknown side channel data received. Channel type: a1d8f7b7-cec8-50f9-b78b-d3e165a78520.\n",
      "Unknown side channel data received. Channel type: a1d8f7b7-cec8-50f9-b78b-d3e165a78520.\n",
      "Unknown side channel data received. Channel type: a1d8f7b7-cec8-50f9-b78b-d3e165a78520.\n",
      "Unknown side channel data received. Channel type: a1d8f7b7-cec8-50f9-b78b-d3e165a78520.\n",
      "Unknown side channel data received. Channel type: a1d8f7b7-cec8-50f9-b78b-d3e165a78520.\n",
      "Unknown side channel data received. Channel type: a1d8f7b7-cec8-50f9-b78b-d3e165a78520.\n",
      "Unknown side channel data received. Channel type: a1d8f7b7-cec8-50f9-b78b-d3e165a78520.\n",
      "Unknown side channel data received. Channel type: a1d8f7b7-cec8-50f9-b78b-d3e165a78520.\n",
      "Unknown side channel data received. Channel type: a1d8f7b7-cec8-50f9-b78b-d3e165a78520.\n",
      "Unknown side channel data received. Channel type: a1d8f7b7-cec8-50f9-b78b-d3e165a78520.\n",
      "Unknown side channel data received. Channel type: a1d8f7b7-cec8-50f9-b78b-d3e165a78520.\n",
      "Unknown side channel data received. Channel type: a1d8f7b7-cec8-50f9-b78b-d3e165a78520.\n",
      "Unknown side channel data received. Channel type: a1d8f7b7-cec8-50f9-b78b-d3e165a78520.\n",
      "Unknown side channel data received. Channel type: a1d8f7b7-cec8-50f9-b78b-d3e165a78520.\n",
      "Unknown side channel data received. Channel type: a1d8f7b7-cec8-50f9-b78b-d3e165a78520.\n",
      "Unknown side channel data received. Channel type: a1d8f7b7-cec8-50f9-b78b-d3e165a78520.\n",
      "Unknown side channel data received. Channel type: a1d8f7b7-cec8-50f9-b78b-d3e165a78520.\n",
      "Unknown side channel data received. Channel type: a1d8f7b7-cec8-50f9-b78b-d3e165a78520.\n",
      "Unknown side channel data received. Channel type: a1d8f7b7-cec8-50f9-b78b-d3e165a78520.\n",
      "Unknown side channel data received. Channel type: a1d8f7b7-cec8-50f9-b78b-d3e165a78520.\n",
      "Unknown side channel data received. Channel type: a1d8f7b7-cec8-50f9-b78b-d3e165a78520.\n",
      "Unknown side channel data received. Channel type: a1d8f7b7-cec8-50f9-b78b-d3e165a78520.\n",
      "Unknown side channel data received. Channel type: a1d8f7b7-cec8-50f9-b78b-d3e165a78520.\n",
      "Unknown side channel data received. Channel type: a1d8f7b7-cec8-50f9-b78b-d3e165a78520.\n",
      "Unknown side channel data received. Channel type: a1d8f7b7-cec8-50f9-b78b-d3e165a78520.\n",
      "Unknown side channel data received. Channel type: a1d8f7b7-cec8-50f9-b78b-d3e165a78520.\n",
      "Unknown side channel data received. Channel type: a1d8f7b7-cec8-50f9-b78b-d3e165a78520.\n",
      "Unknown side channel data received. Channel type: a1d8f7b7-cec8-50f9-b78b-d3e165a78520.\n",
      "Unknown side channel data received. Channel type: a1d8f7b7-cec8-50f9-b78b-d3e165a78520.\n",
      "Unknown side channel data received. Channel type: a1d8f7b7-cec8-50f9-b78b-d3e165a78520.\n"
     ]
    },
    {
     "name": "stdout",
     "output_type": "stream",
     "text": [
      "Total rewards for episode 1 is -2.0\n"
     ]
    },
    {
     "name": "stderr",
     "output_type": "stream",
     "text": [
      "Unknown side channel data received. Channel type: a1d8f7b7-cec8-50f9-b78b-d3e165a78520.\n",
      "Unknown side channel data received. Channel type: a1d8f7b7-cec8-50f9-b78b-d3e165a78520.\n",
      "Unknown side channel data received. Channel type: a1d8f7b7-cec8-50f9-b78b-d3e165a78520.\n",
      "Unknown side channel data received. Channel type: a1d8f7b7-cec8-50f9-b78b-d3e165a78520.\n"
     ]
    }
   ],
   "source": [
    "for episode in range(3):\n",
    "  env.reset()\n",
    "  decision_steps, terminal_steps = env.get_steps(behavior_name)\n",
    "  tracked_agent = -1 # -1 indicates not yet tracking\n",
    "  done = False # For the tracked_agent\n",
    "  episode_rewards = 0 # For the tracked_agent\n",
    "  while not done:\n",
    "    # Track the first agent we see if not tracking \n",
    "    # Note : len(decision_steps) = [number of agents that requested a decision]\n",
    "    if tracked_agent == -1 and len(decision_steps) >= 1:\n",
    "      tracked_agent = decision_steps.agent_id[0] \n",
    "\n",
    "    # Generate an action for all agents\n",
    "    action = spec.create_random_action(len(decision_steps))\n",
    "\n",
    "    # Set the actions\n",
    "    env.set_actions(behavior_name, action)\n",
    "\n",
    "    # Move the simulation forward\n",
    "    env.step()\n",
    "\n",
    "    # Get the new simulation results\n",
    "    decision_steps, terminal_steps = env.get_steps(behavior_name)\n",
    "    if tracked_agent in decision_steps: # The agent requested a decision\n",
    "      episode_rewards += decision_steps[tracked_agent].reward\n",
    "    if tracked_agent in terminal_steps: # The agent terminated its episode\n",
    "      episode_rewards += terminal_steps[tracked_agent].reward\n",
    "      done = True\n",
    "  print(f\"Total rewards for episode {episode} is {episode_rewards}\")\n"
   ]
  },
  {
   "cell_type": "markdown",
   "metadata": {
    "colab_type": "text",
    "id": "R-3grXNEtJPa"
   },
   "source": [
    "### Close the Environment to free the port it is using"
   ]
  },
  {
   "cell_type": "code",
   "execution_count": null,
   "metadata": {
    "colab": {},
    "colab_type": "code",
    "id": "vdWG6_SqtNtv"
   },
   "outputs": [],
   "source": [
    "env.close()\n",
    "print(\"Closed environment\")"
   ]
  }
 ],
 "metadata": {
  "colab": {
   "collapsed_sections": [],
   "name": "Copy of Colab-UnityEnvironment-1-Run.ipynb",
   "private_outputs": true,
   "provenance": [],
   "toc_visible": true
  },
  "kernelspec": {
   "display_name": "Python 3",
   "language": "python",
   "name": "python3"
  },
  "language_info": {
   "codemirror_mode": {
    "name": "ipython",
    "version": 3
   },
   "file_extension": ".py",
   "mimetype": "text/x-python",
   "name": "python",
   "nbconvert_exporter": "python",
   "pygments_lexer": "ipython3",
   "version": "3.7.6"
  }
 },
 "nbformat": 4,
 "nbformat_minor": 1
}
